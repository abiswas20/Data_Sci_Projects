{
 "cells": [
  {
   "cell_type": "code",
   "execution_count": 1,
   "metadata": {},
   "outputs": [
    {
     "data": {
      "text/plain": [
       "[{'A': 11, 'B': 12, 'C': 13, 'D': 14, 'E': 15},\n",
       " {'B': 11, 'C': 12, 'D': 13, 'E': 14, 'A': 15},\n",
       " {'C': 11, 'D': 12, 'E': 13, 'A': 14, 'B': 15}]"
      ]
     },
     "execution_count": 1,
     "metadata": {},
     "output_type": "execute_result"
    }
   ],
   "source": [
    "import itertools\n",
    "\n",
    "allKeys=['A','B','C','D','E']\n",
    "a=[1,2,3,4,5,6,7,8,9,10,11,12,13,14,15]\n",
    "g=itertools.cycle(allKeys)\n",
    "b=[]\n",
    "for i in range(3):\n",
    "    dishDict=dict(zip(g,a))\n",
    "    b.append(dishDict)\n",
    "\n",
    "b"
   ]
  },
  {
   "cell_type": "code",
   "execution_count": 2,
   "metadata": {},
   "outputs": [
    {
     "name": "stdout",
     "output_type": "stream",
     "text": [
      "[{'A': 1, 'B': 2, 'C': 3, 'D': 4, 'E': 5}, {'A': 6, 'B': 7, 'C': 8, 'D': 9, 'E': 10}, {'A': 11, 'B': 12, 'C': 13, 'D': 14, 'E': 15}]\n"
     ]
    }
   ],
   "source": [
    "allKeys=['A','B','C','D','E']\n",
    "a=[1,2,3,4,5,6,7,8,9,10,11,12,13,14,15]\n",
    "\n",
    "it = iter(a)\n",
    "b=[]\n",
    "for i in range(3):\n",
    "    dishDict=dict(zip(allKeys,it))\n",
    "    b.append(dishDict)\n",
    "\n",
    "print(b)"
   ]
  },
  {
   "cell_type": "code",
   "execution_count": null,
   "metadata": {},
   "outputs": [],
   "source": []
  }
 ],
 "metadata": {
  "kernelspec": {
   "display_name": "Python 3",
   "language": "python",
   "name": "python3"
  },
  "language_info": {
   "codemirror_mode": {
    "name": "ipython",
    "version": 3
   },
   "file_extension": ".py",
   "mimetype": "text/x-python",
   "name": "python",
   "nbconvert_exporter": "python",
   "pygments_lexer": "ipython3",
   "version": "3.6.9"
  }
 },
 "nbformat": 4,
 "nbformat_minor": 4
}
