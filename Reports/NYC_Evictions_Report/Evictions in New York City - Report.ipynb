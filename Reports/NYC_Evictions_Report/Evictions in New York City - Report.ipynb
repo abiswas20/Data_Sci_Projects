{
 "cells": [
  {
   "cell_type": "code",
   "execution_count": 1,
   "metadata": {},
   "outputs": [],
   "source": [
    "#Report Sections:\n",
    "#1. Introduction\n",
    "#2. Data\n",
    "#3. Methodology\n",
    "#4. Results\n",
    "#5. Discussion\n",
    "#6. Conclusion"
   ]
  },
  {
   "cell_type": "markdown",
   "metadata": {},
   "source": [
    "# Evictions In New York City"
   ]
  },
  {
   "cell_type": "markdown",
   "metadata": {},
   "source": [
    "## Introduction"
   ]
  },
  {
   "cell_type": "markdown",
   "metadata": {},
   "source": [
    "New York City is the largest city in the United States and arguably the financial capital of the world. Its cost of living is very high, to the point where Economist Intelligence Unit's 2020 Worldwide Cost of Living Survey puts it in the fourth place in the world. Singapore, Osaka and Hong Kong tied for the first place. It also has one of the most competitive and expensive real estate in the country. As to be expected, a large portion of the businesses and homes are leased properties. This study focuses on such residential properties and their renters. High population density, lack of space for horizontal growth and extensive vertical growth make evictions an unfortunate reality for residents of the city. I looked into residents' household income, their level of education and prevalence of certain types of crime in the neighborhood and how they relate to evictions per capita. Not unexpectedly, there appears to be a strong correlation between all these factors.\n",
    "\n",
    "Most of the data is categorized by neighborhood, except for arrest data. I could only find arrest data by precinct, making the the study largely exploratory. Thus study is largely exploratory."
   ]
  },
  {
   "cell_type": "markdown",
   "metadata": {},
   "source": [
    "## Data"
   ]
  },
  {
   "cell_type": "markdown",
   "metadata": {},
   "source": [
    "Data used in this study, their purpose and source are discussed below:\n",
    "1. Evictions - Beginning of 2017 to March 13, 2020 - New York City Government through NYC Open Data.\n",
    "2. Geographical Coordinates - OpenStreetMap Nominatim package.\n",
    "3. Population data for cities/neighborhoods - Wikipedia\n",
    "4. Median income by cities/neighborhoods - 2012 to 2016 Census Bureau American Community Survey Economic Profile\n",
    "5. Education level by cities/neighborhoods - 2012 to 2016 Census Bureau American Community Survey Social Profile\n",
    "6. Criminal activity in cities/neighborhoods - Beginning of 2006 to end of 2019 - NYPD Arrests Data through NYC Open Data\n"
   ]
  },
  {
   "cell_type": "code",
   "execution_count": null,
   "metadata": {},
   "outputs": [],
   "source": []
  }
 ],
 "metadata": {
  "kernelspec": {
   "display_name": "Python 3",
   "language": "python",
   "name": "python3"
  },
  "language_info": {
   "codemirror_mode": {
    "name": "ipython",
    "version": 3
   },
   "file_extension": ".py",
   "mimetype": "text/x-python",
   "name": "python",
   "nbconvert_exporter": "python",
   "pygments_lexer": "ipython3",
   "version": "3.6.9"
  }
 },
 "nbformat": 4,
 "nbformat_minor": 4
}
