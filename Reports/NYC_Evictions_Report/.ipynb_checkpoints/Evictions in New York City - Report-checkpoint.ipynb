{
 "cells": [
  {
   "cell_type": "code",
   "execution_count": 1,
   "metadata": {},
   "outputs": [],
   "source": [
    "#Report Sections:\n",
    "#1. Introduction\n",
    "#2. Data\n",
    "#3. Methodology\n",
    "#4. Results\n",
    "#5. Discussion\n",
    "#6. Conclusion"
   ]
  },
  {
   "cell_type": "markdown",
   "metadata": {},
   "source": [
    "# Residential Evictions In New York City"
   ]
  },
  {
   "cell_type": "markdown",
   "metadata": {},
   "source": [
    "### Introduction"
   ]
  },
  {
   "cell_type": "markdown",
   "metadata": {},
   "source": [
    "New York City is the largest city in the United States and arguably the financial capital of the world. Its cost of living is very high, to the point where Economist Intelligence Unit's 2020 Worldwide Cost of Living Survey puts it in the fourth place in the world. Singapore, Osaka and Hong Kong tied for the first place. It also has one of the most competitive and expensive real estate in the country. As to be expected, a large portion of the businesses and homes are leased properties. This study focuses on such residential properties and their renters. High population density, lack of space for horizontal growth and extensive vertical growth make evictions an unfortunate reality for residents of the city. I looked into residents' household income, their level of education and prevalence of certain types of crime in the neighborhood and how they relate to evictions per capita. Not unexpectedly, there appears to be a strong correlation between all these factors.\n",
    "\n",
    "Most of the data is categorized by neighborhood, except for arrest data. I could only find arrest data by precinct. Thus the study is largely exploratory."
   ]
  },
  {
   "cell_type": "markdown",
   "metadata": {},
   "source": [
    "### Data"
   ]
  },
  {
   "cell_type": "markdown",
   "metadata": {},
   "source": [
    "Data used in this study, their purpose and their sources are discussed below:\n",
    "1. **Evictions:** The study focuses on evictions in New York City neighborhoods, which makes this data central to the work. The rest of the project is built on top of findings from the dataset on evictions. (Data Source: New York City Government through NYC Open Data; beginning of 2017 to March 13, 2020)\n",
    "2. **Geographical Coordinates:** The coordinates were necessary to plot eviction data on the map. (Data Source: OpenStreetMap Nominatim package)\n",
    "3. **Population data for cities and neighborhoods:** Some neighborhoods have larger population than others. Expressing number of evictions per capita (per thousand) helps normalize this factor. (Data Source: Wikipedia)\n",
    "4. **Income data by cities and neighborhoods:** Lower income leaves one without a safety net, increasing financial undertainties. It is one of the measures I compared with eviction rates. (Data Source: Census Bureau American Community Survey Economic Profile; 2012 to 2016)\n",
    "5. **Education level by cities and neighborhoods:** Higher educational level generally indicates better knowledge of principles of money management. Since jobs requiring higher levels of education often pay better, it has a strong correlation with income. (Data Source: Census Bureau American Community Survey Social Profile; 2012 to 2016)\n",
    "6. **Criminal activity in cities and neighborhoods:** Criminal activities in an area generate fear in its residents. The preception of lack of safety make properties less desirable which push prices down. In the long run this dynamic leads such places to lower income and poverty. I compared the distribution of higher crime areas to eviction rates as part of the study. (Data Source: NYPD Arrests Data through NYC Open Data; Beginning of 2006 to end of 2019)"
   ]
  },
  {
   "cell_type": "markdown",
   "metadata": {},
   "source": [
    "### Methodology"
   ]
  },
  {
   "cell_type": "markdown",
   "metadata": {},
   "source": [
    "When we think of people getting evicted from their home we think of economically depressed areas. The features of such a place include lower income, lower levels of education and higher crime rate. The idea is such conditions set up a vicious cycle that feeds into the higher eviction rate. This is an academic exercise to verify this abstract theory by studying if such socioeconomic conditions truly coexist in neighborhoods with high rates of residential evictions.\n",
    "\n",
    "We have quite a few possible ways of approaching this problem: some more mathematical than other. In this study, my chosen mode of answering this question is largely descriptive and visual. Since we are addressing evictions, I started with the eviction data sourced from NYC Open Data. The original dataframe was grouped by zip code and only columns showing zip code, neighborhood name and count of evictions by zip code were retained. The dataframe was merged with a separate dataframe listing latitude and longitude for zip codes across the country. (?population?) Unfortunately several zip codes were missing corresponding latitude and longitude which made me change my direction.\n",
    "\n",
    "Schematic:\n",
    "1. Eviction data - Source and description\n",
    "2. Grouping data by city/neighborhood with total counts.\n",
    "3. Merge population and coordinates with eviction data. Mention source of such data.\n",
    "4. Evictions map and ten neighborhoods with most evictions per capital. Mention library usued.\n",
    "5. Mention socioeconomic factors again and mention sources for each.\n",
    "6. Mention all the maps."
   ]
  },
  {
   "cell_type": "code",
   "execution_count": null,
   "metadata": {},
   "outputs": [],
   "source": []
  }
 ],
 "metadata": {
  "kernelspec": {
   "display_name": "Python 3",
   "language": "python",
   "name": "python3"
  },
  "language_info": {
   "codemirror_mode": {
    "name": "ipython",
    "version": 3
   },
   "file_extension": ".py",
   "mimetype": "text/x-python",
   "name": "python",
   "nbconvert_exporter": "python",
   "pygments_lexer": "ipython3",
   "version": "3.6.9"
  }
 },
 "nbformat": 4,
 "nbformat_minor": 4
}
