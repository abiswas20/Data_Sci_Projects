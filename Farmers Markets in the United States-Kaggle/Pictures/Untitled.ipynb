{
 "cells": [
  {
   "cell_type": "code",
   "execution_count": 19,
   "metadata": {},
   "outputs": [
    {
     "name": "stdout",
     "output_type": "stream",
     "text": [
      "['shirt', 'pants', 'socks'] \n",
      " ['shirt', 'pants', 'socks'] \n",
      " ['shirt', 'pants', 'socks']\n"
     ]
    }
   ],
   "source": [
    "packing_list = []\n",
    "packing_list.append(\"shirt\")\n",
    "packing_list2=packing_list\n",
    "packing_list2.append(\"pants\")\n",
    "packing_list3=packing_list2\n",
    "packing_list3.append(\"socks\")\n",
    "print(packing_list,'\\n',packing_list2,'\\n',packing_list3)\n",
    "\n",
    "#packing_list2=packing_list.append('pants')\n",
    "#packing_list3=packing_list2.append('socks')\n",
    "#print(packing_list,packing_list2,packing_list3)"
   ]
  },
  {
   "cell_type": "code",
   "execution_count": 22,
   "metadata": {},
   "outputs": [],
   "source": [
    "cat={'a','b','c'}"
   ]
  },
  {
   "cell_type": "code",
   "execution_count": 23,
   "metadata": {},
   "outputs": [
    {
     "data": {
      "text/plain": [
       "3"
      ]
     },
     "execution_count": 23,
     "metadata": {},
     "output_type": "execute_result"
    }
   ],
   "source": [
    "len(cat)"
   ]
  },
  {
   "cell_type": "code",
   "execution_count": 24,
   "metadata": {},
   "outputs": [
    {
     "ename": "SyntaxError",
     "evalue": "invalid syntax (<ipython-input-24-a7d818fcc84a>, line 1)",
     "output_type": "error",
     "traceback": [
      "\u001b[0;36m  File \u001b[0;32m\"<ipython-input-24-a7d818fcc84a>\"\u001b[0;36m, line \u001b[0;32m1\u001b[0m\n\u001b[0;31m    for i in 1 to 10:\u001b[0m\n\u001b[0m                ^\u001b[0m\n\u001b[0;31mSyntaxError\u001b[0m\u001b[0;31m:\u001b[0m invalid syntax\n"
     ]
    }
   ],
   "source": [
    "for i in 1 to 10:\n",
    "    print(i)"
   ]
  },
  {
   "cell_type": "code",
   "execution_count": 25,
   "metadata": {},
   "outputs": [],
   "source": [
    "str_to_float = ['2.1', '2.3', '7,5', '$12.12', '8.9', '5%', '33.1']"
   ]
  },
  {
   "cell_type": "code",
   "execution_count": 26,
   "metadata": {},
   "outputs": [],
   "source": [
    "floats = []\n",
    "bad_characters = ',$%'\n",
    "for number in str_to_float:\n",
    "    corrupted = False\n",
    "    for bad_character in bad_characters:\n",
    "        if bad_character in number:\n",
    "            corrupted = True\n",
    "    if corrupted:\n",
    "        floats.append(None)\n",
    "    else:\n",
    "        floats.append(float(number))"
   ]
  },
  {
   "cell_type": "code",
   "execution_count": 27,
   "metadata": {},
   "outputs": [
    {
     "data": {
      "text/plain": [
       "[2.1, 2.3, None, None, 8.9, None, 33.1]"
      ]
     },
     "execution_count": 27,
     "metadata": {},
     "output_type": "execute_result"
    }
   ],
   "source": [
    "floats"
   ]
  },
  {
   "cell_type": "code",
   "execution_count": 28,
   "metadata": {},
   "outputs": [],
   "source": [
    "floats = []\n",
    "for s in str_to_float:\n",
    "    try:\n",
    "        floats.append(float(s))\n",
    "    except:\n",
    "        floats.append(None)"
   ]
  },
  {
   "cell_type": "code",
   "execution_count": 29,
   "metadata": {},
   "outputs": [
    {
     "data": {
      "text/plain": [
       "[2.1, 2.3, None, None, 8.9, None, 33.1]"
      ]
     },
     "execution_count": 29,
     "metadata": {},
     "output_type": "execute_result"
    }
   ],
   "source": [
    "floats"
   ]
  },
  {
   "cell_type": "code",
   "execution_count": null,
   "metadata": {},
   "outputs": [],
   "source": []
  }
 ],
 "metadata": {
  "kernelspec": {
   "display_name": "Python 3",
   "language": "python",
   "name": "python3"
  },
  "language_info": {
   "codemirror_mode": {
    "name": "ipython",
    "version": 3
   },
   "file_extension": ".py",
   "mimetype": "text/x-python",
   "name": "python",
   "nbconvert_exporter": "python",
   "pygments_lexer": "ipython3",
   "version": "3.6.9"
  }
 },
 "nbformat": 4,
 "nbformat_minor": 4
}
