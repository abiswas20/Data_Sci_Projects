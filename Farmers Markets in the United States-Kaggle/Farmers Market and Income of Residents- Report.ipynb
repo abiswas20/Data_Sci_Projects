{
 "cells": [
  {
   "cell_type": "code",
   "execution_count": null,
   "metadata": {},
   "outputs": [],
   "source": []
  },
  {
   "cell_type": "markdown",
   "metadata": {},
   "source": [
    "# What The Number And Characteristics Of Farmers' Markets In A County Say About Per Capita Income of Residents: Report"
   ]
  },
  {
   "cell_type": "markdown",
   "metadata": {},
   "source": [
    "## Project Goal"
   ]
  },
  {
   "cell_type": "markdown",
   "metadata": {},
   "source": [
    "The goal of this project is to study if the number of farmers' markets in a county can provide insight into economic status of it's residents, particularly per capita income."
   ]
  },
  {
   "cell_type": "markdown",
   "metadata": {},
   "source": [
    "## Introduction"
   ]
  },
  {
   "cell_type": "markdown",
   "metadata": {},
   "source": [
    "According to Wikipedia:  \n",
    ">\n",
    "_\"A farmers' market is a physical retail marketplace intended to sell foods directly by farmers to consumers. Farmers' markets may be indoors or outdoors and typically consist of booths, tables or stands where farmers sell their homegrown produce, live animals and plants, and sometimes prepared foods and beverages.\"_\n",
    "\n",
    "The Farmers' Market model has several pros. The more significant ones are:  \n",
    "1. Produce, meat, poultry etc. are sold directly by the farmers' and don't involve long storage. Consumers get access to food that is more fresh and nutritious.  \n",
    "2. The smaller scale of production involve more sustainable agricultural practices.  \n",
    "3. Money spent by consumers go into the hands of local farmers, strengthening the local economy.\n",
    "4. Encourages healthy eating habits by promoting home-cooked meals.\n",
    "\n",
    "The farmers' market model of doing business has a few weakness as well:  \n",
    "1. They cannot take advantage of economy of scale. There are inefficiencies in production, storage, logistics etc.. Whether they truly affect the final price or not, there is a perception that products are more expensive at farmers' markets.\n",
    "2. Limited market hours.    \n",
    "3. Smaller customer base makes it difficult to retain vendors, which in turn reduces customer patronage further.   \n",
    "\n",
    "Such factors make it very likely that a relationship exists between success of farmers' market and local economic conditions. In this project, I took a bottom-up approach to study what the farmers' markets in a county can tell us about the economic status, particularly per capita income, of its residents.\n",
    "\n",
    "Larger counties were exluded as they are very diverse. County level data doesn't have the granularity necessary to include them in the analysis. Smaller counties are often impoverished and would be outliers. So the 10% of largest and smallest counties were excluded from the study."
   ]
  },
  {
   "cell_type": "markdown",
   "metadata": {},
   "source": [
    "## Methodology"
   ]
  },
  {
   "cell_type": "markdown",
   "metadata": {},
   "source": [
    "The objective is to study the relationship between the number of farmers markets there are in a county and the type of products they sell with income level of county residents. The most obvious way to do this is hypothesis testing followed by some type of machine learning algorithm. Unfortunately the dimensionality of the data (i.e. the number of factors) is high which makes hypothesis testing on raw sample data difficult. Instead the approach I took involves building a machine learning model as the first step. I explain the details below:  \n",
    "1. First, the availability of the various products on the list were one hot encoded. This was necessary to make quantitative analysis on the dataset easier. The possible factors that were taken into account are: number of farmers' market, number of farmers' markets with website, number of farmers' market per capita, and availability of organic food, baked goods, cheese, crafts, flowers, eggs, seafood, herbs, vegetables, honey, jams, maple, meat, nursery, nuts, plants, poultry, prepared, soap, trees, wine,coffee, beans, fruits, grains, juices, mushrooms, pet food, tofu, wild harvested grains/food.  \n",
    "2. Data was standardized to minimize effects from features with larger absolute values. The StandardScaler method from scikit-learn's preprocessing module was used for this purpose. The method was used with default arguments.  \n",
    "3. The list of factors is long and contains 33 features. Principal component analysis was performed to reduce dimensionality to 4 principal components. The 4 principal components explain approximately 70% of variance.  \n",
    "4. Regression algorithms was run with principal components as the feature set and per capita income as the value to predict. Performance of model was tested by calculating root mean squared error and R-squared.  \n",
    "5. K Means Clustering algorithm was run on the data to create clusters of counties with similar feature set.  \n",
    "6. Hypothesis test was performed on per capita income data for each cluster."
   ]
  },
  {
   "cell_type": "markdown",
   "metadata": {},
   "source": [
    "## Results"
   ]
  },
  {
   "cell_type": "markdown",
   "metadata": {},
   "source": []
  },
  {
   "cell_type": "markdown",
   "metadata": {},
   "source": [
    "## Discussion"
   ]
  },
  {
   "cell_type": "markdown",
   "metadata": {},
   "source": []
  },
  {
   "cell_type": "markdown",
   "metadata": {},
   "source": [
    "## Summary"
   ]
  },
  {
   "cell_type": "markdown",
   "metadata": {},
   "source": []
  }
 ],
 "metadata": {
  "kernelspec": {
   "display_name": "Python 3",
   "language": "python",
   "name": "python3"
  },
  "language_info": {
   "codemirror_mode": {
    "name": "ipython",
    "version": 3
   },
   "file_extension": ".py",
   "mimetype": "text/x-python",
   "name": "python",
   "nbconvert_exporter": "python",
   "pygments_lexer": "ipython3",
   "version": "3.6.9"
  }
 },
 "nbformat": 4,
 "nbformat_minor": 4
}
